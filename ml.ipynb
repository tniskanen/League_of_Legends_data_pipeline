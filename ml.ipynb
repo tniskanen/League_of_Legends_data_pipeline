{
 "cells": [
  {
   "cell_type": "markdown",
   "metadata": {},
   "source": [
    "Get Match Data"
   ]
  },
  {
   "cell_type": "code",
   "execution_count": 1041,
   "metadata": {},
   "outputs": [],
   "source": [
    "import numpy as np\n",
    "import pandas as pd\n",
    "import sqlite3\n",
    "import matplotlib.pyplot as plt\n",
    "from sklearn.preprocessing import StandardScaler\n",
    "from imblearn.over_sampling import RandomOverSampler\n",
    "from sklearn.metrics import classification_report"
   ]
  },
  {
   "cell_type": "code",
   "execution_count": 1042,
   "metadata": {},
   "outputs": [
    {
     "name": "stdout",
     "output_type": "stream",
     "text": [
      "(1000, 288)\n"
     ]
    }
   ],
   "source": [
    "connection = sqlite3.connect('lol_database.db')\n",
    "cursor = connection.cursor()\n",
    "query = f\"PRAGMA table_info(Match_Data)\"\n",
    "cursor.execute(query)\n",
    "cols_info = cursor.fetchall()\n",
    "cols = [column[1] for column in cols_info]\n",
    "\n",
    "cursor.execute('SELECT * FROM Match_Data')\n",
    "rows = cursor.fetchmany(1000)\n",
    "connection.close()\n",
    "\n",
    "df = pd.DataFrame(data = rows, columns=cols)\n",
    "print(df.shape)"
   ]
  },
  {
   "cell_type": "code",
   "execution_count": 1043,
   "metadata": {},
   "outputs": [],
   "source": [
    "bad_cols = ['threeWardsOneSweeperCount','thirdInhibitorDestroyedTime','teleportTakedowns','baronBuffGoldAdvantageOverThreshold', 'nexusLost',\n",
    "            'shortestTimeToAceFromFirstTakedown','mythicItemUsed','fastestLegendary','riotIdName','highestCrowdControlScore','highestWardKills','earliestDragonTakedown',\n",
    "            'highestChampionDamage','unseenRecalls','twoWardsOneSweeperCount','twentyMinionsIn3SecondsCount',\n",
    "            'takedownsInAlcove','survivedThreeImmobilizesInFight','survivedSingleDigitHpCount','snowballsHit','quickCleanse','poroExplosions',\n",
    "            'playedChampSelectPosition','outnumberedNexusKill','outerTurretExecutesBefore10Minutes','multiKillOneSpell','mejaisFullStackInTime','legendaryCount',\n",
    "            'knockEnemyIntoTeamAndKill','killsOnRecentlyHealedByAramPack','killedChampTookFullTeamDamageSurvived','gameLength','elderDragonMultikills',\n",
    "            'elderDragonKillsWithOpposingSoul','doubleAces','deathsByEnemyChamps','completeSupportQuestInTime','blastConeOppositeOpponentCount','InfernalScalePickup',\n",
    "            'gameMode','unrealKills','teamId','teamEarlySurrendered','subteamPlacement','role','riotIdTagline',\n",
    "            'riotIdGameName','profileIcon','playerSubteamId','placement','participantId','nexusTakedowns','nexusKills','lane','individualPosition',\n",
    "            'gameEndedInSurrender','firstTowerAssist','eligibleForProgression','championTransform','championId', 'item0','item1','item2',\n",
    "            'item3','item4','item5','item6', 'sightWardsBoughtInGame']\n",
    "# need to decrypt Id or remove data from df\n",
    "summSpells = ['summoner1Casts', 'summoner1Id','summoner2Casts','summoner2Id']"
   ]
  },
  {
   "cell_type": "code",
   "execution_count": 1044,
   "metadata": {},
   "outputs": [
    {
     "name": "stdout",
     "output_type": "stream",
     "text": [
      "(1000, 247)\n"
     ]
    }
   ],
   "source": [
    "keyWords = ['playerAugment','playerScore','summoner','spell']\n",
    "for col in cols:\n",
    "    for key in keyWords:\n",
    "        if key in col:\n",
    "            df.pop(col)\n",
    "print(df.shape)\n"
   ]
  },
  {
   "cell_type": "code",
   "execution_count": 1045,
   "metadata": {},
   "outputs": [
    {
     "name": "stdout",
     "output_type": "stream",
     "text": [
      "(1000, 179)\n"
     ]
    }
   ],
   "source": [
    "for col in bad_cols:\n",
    "    df.pop(col)\n",
    "print(df.shape)"
   ]
  },
  {
   "cell_type": "markdown",
   "metadata": {},
   "source": [
    "PREPARING  DATA"
   ]
  },
  {
   "cell_type": "code",
   "execution_count": 1046,
   "metadata": {},
   "outputs": [
    {
     "name": "stderr",
     "output_type": "stream",
     "text": [
      "C:\\Users\\niska\\AppData\\Local\\Temp\\ipykernel_41436\\1423892336.py:2: PerformanceWarning: DataFrame is highly fragmented.  This is usually the result of calling `frame.insert` many times, which has poor performance.  Consider joining all columns at once using pd.concat(axis=1) instead. To get a de-fragmented frame, use `newframe = frame.copy()`\n",
      "  df['pingsTotal'] = (df['allInPings']+ df['assistMePings']+ df['basicPings']+\n"
     ]
    }
   ],
   "source": [
    "#mutate ping data\n",
    "df['pingsTotal'] = (df['allInPings']+ df['assistMePings']+ df['basicPings']+\n",
    "                       df['commandPings']+df['dangerPings']+df['enemyMissingPings']+\n",
    "                       df['enemyVisionPings']+df['getBackPings']+df['holdPings']+\n",
    "                       df['needVisionPings']+df['onMyWayPings']+df['pushPings']+\n",
    "                       df['visionClearedPings']+df['baitPings'])"
   ]
  },
  {
   "cell_type": "code",
   "execution_count": 1047,
   "metadata": {},
   "outputs": [],
   "source": [
    "for col in df.columns:\n",
    "    if 'Ping' in col:\n",
    "        df.pop(col)"
   ]
  },
  {
   "cell_type": "code",
   "execution_count": 1048,
   "metadata": {},
   "outputs": [
    {
     "name": "stdout",
     "output_type": "stream",
     "text": [
      "nan\n",
      "0.0\n"
     ]
    }
   ],
   "source": [
    "print(df['hadAfkTeammate'][0])\n",
    "df = df.replace(np.nan, 0)\n",
    "print(df['hadAfkTeammate'][0])\n",
    "df = df.drop_duplicates()"
   ]
  },
  {
   "cell_type": "markdown",
   "metadata": {},
   "source": [
    "CREATING TEAM SUMMARY DATA FOR MACHINE LEARNING"
   ]
  },
  {
   "cell_type": "code",
   "execution_count": 1049,
   "metadata": {},
   "outputs": [],
   "source": [
    "df_win = df[df['win'] == 1]\n",
    "df_loss = df[df['win'] == 0]\n",
    "\n",
    "df_topW = df_win[df_win['teamPosition'] == 'TOP']\n",
    "df_topL = df_loss[df_loss['teamPosition'] == 'TOP']\n",
    "\n",
    "team_drops = ['champLevel','championName','damageDealtToBuildings','damageDealtToTurrets','largestCriticalStrike','largestKillingSpree',\n",
    "              'largestMultiKill','longestTimeSpentLiving','puuid','damageTakenOnTeamPercentage',\n",
    "              'kda','killParticipation','takedowns','teamDamagePercentage','visionScoreAdvantageLaneOpponent']\n",
    "for drop in team_drops:\n",
    "    if drop in df_win.columns:\n",
    "        df_win.pop(drop)\n",
    "        df_loss.pop(drop)"
   ]
  },
  {
   "cell_type": "code",
   "execution_count": 1050,
   "metadata": {},
   "outputs": [
    {
     "data": {
      "text/plain": [
       "\"\\ndf_winAgg = df_win.groupby('matchId').agg({\\n    'assists' : 'sum', 'baronKills' : 'sum', 'bountyLevel' : 'sum', 'champExperience' : 'sum', 'consumablesPurchased' : 'sum',  \\n    'damageDealtToObjectives' : 'sum', 'damageSelfMitigated' : 'sum', 'deaths' : 'sum', 'detectorWardsPlaced' : 'sum', 'doubleKills' : 'sum',\\n    'dragonKills' : 'sum', 'firstBloodAssist' : 'sum', 'firstBloodKill' : 'sum', 'firstTowerKill' : 'sum', 'goldEarned' : 'sum',\\n    'goldSpent' : 'sum', 'inhibitorKills' : 'sum', 'inhibitorTakedowns' : 'sum', 'inhibitorsLost' : 'mean', 'itemsPurchased' : 'sum',\\n    'killingSprees' : 'sum', 'kills' : 'sum', 'magicDamageDealt' : 'sum', 'magicDamageDealtToChampions' : 'sum', 'magicDamageTaken' : 'sum',\\n    'neutralMinionsKilled' : 'sum', 'objectivesStolenAssists' : 'sum', 'pentaKills' : 'sum', 'physicalDamageDealt' : 'sum', \\n    'physicalDamageDealtToChampions' : 'sum', 'physicalDamageTaken' : 'sum', 'quadraKills' : 'sum',\\n    'timeCCingOthers' : 'sum', 'totalAllyJungleMinionsKilled' : 'sum', 'totalDamageDealt' : 'sum', 'totalDamageDealtToChampions' : 'sum', \\n    'totalDamageShieldedOnTeammates' : 'sum', 'totalDamageTaken' : 'sum', 'totalEnemyJungleMinionsKilled' : 'sum', 'totalHeal' : 'sum', \\n    'totalHealsOnTeammates' : 'sum', 'totalMinionsKilled' : 'sum', 'totalTimeCCDealt' : 'sum', 'totalTimeSpentDead' : 'sum', \\n    'totalUnitsHealed' : 'sum', 'tripleKills' : 'sum', 'trueDamageDealt' : 'sum', 'trueDamageDealtToChampions' : 'sum', 'trueDamageTaken' : 'sum',\\n    'turretKills' : 'sum', 'turretTakedowns' : 'sum', 'turretsLost' : 'median', 'visionScore' : 'sum', 'visionWardsBoughtInGame' : 'sum', \\n    'wardsKilled' : 'sum', 'wardsPlaced' : 'sum', 'win' : 'median', '12AssistStreakCount' : 'sum', 'abilityUses' : 'sum', 'acesBefore15Minutes' : 'median', \\n    'alliedJungleMonsterKills': 'sum', 'baronTakedowns' : 'sum', 'bountyGold' : 'sum', 'buffsStolen' : 'sum', 'controlWardTimeCoverageInRiverOrEnemyHalf' : 'sum',\\n    'controlWardsPlaced' : 'sum', 'damagePerMinute' : 'sum', 'dancedWithRiftHerald' : 'sum', 'dodgeSkillShotsSmallWindow' : 'sum', 'dragonTakedowns' : 'sum', \\n    'earlyLaningPhaseGoldExpAdvantage' : 'sum', 'effectiveHealAndShielding' : 'sum', 'enemyChampionImmobilizations' : 'sum', \\n    'enemyJungleMonsterKills' : 'sum', 'epicMonsterKillsNearEnemyJungler' : 'sum', 'epicMonsterKillsWithin30SecondsOfSpawn' : 'sum',\\n    'epicMonsterSteals' : 'sum', 'epicMonsterStolenWithoutSmite' : 'sum', 'firstTurretKilled' : 'median', 'flawlessAces' : 'median', \\n    'fullTeamTakedown' : 'median', 'goldPerMinute' : 'sum', 'hadOpenNexus' : 'median', 'immobilizeAndKillWithAlly' : 'sum', 'initialBuffCount' : 'sum', \\n    'initialCrabCount' : 'sum', 'jungleCsBefore10Minutes' : 'sum', 'junglerTakedownsNearDamagedEpicMonster' : 'sum', 'kTurretsDestroyedBeforePlatesFall' : 'sum',\\n    'killAfterHiddenWithAlly' : 'sum', 'killsNearEnemyTurret' : 'sum', 'getTakedownsInAllLanesEarlyJungleAsLaner': 'sum', \\n    'killsOnOtherLanesEarlyJungleAsLaner' : 'sum', 'killsUnderOwnTurret' : 'sum', 'killsWithHelpFromEpicMonster' : 'sum', \\n    'landSkillShotsEarlyGame' : 'sum', 'laneMinionsFirst10Minutes' : 'sum', 'laningPhaseGoldExpAdvantage' : 'sum', 'lostAnInhibitor' : 'median',\\n    'maxCsAdvantageOnLaneOpponent' : 'sum', 'maxKillDeficit' : 'sum', 'maxLevelLeadLaneOpponent' : 'sum', \\n    'moreEnemyJungleThanOpponent' : 'sum', 'multiTurretRiftHeraldCount' : 'median', 'multikills' : 'sum', 'multikillsAfterAggressiveFlash' : 'sum',\\n    'perfectDragonSoulsTaken' : 'median', 'perfectGame' : 'median', 'pickKillWithAlly' : 'sum', 'quickFirstTurret' : 'sum', 'quickSoloKills' : 'sum',\\n    'riftHeraldTakedowns' : 'sum', 'saveAllyFromDeath' : 'sum', 'scuttleCrabKills' : 'sum', 'skillshotsDodged' : 'sum', 'skillshotsHit' : 'sum',\\n    'soloKills' : 'sum', 'soloTurretsLategame' : 'sum', 'stealthWardsPlaced' : 'sum', 'takedownOnFirstTurret' : 'sum', \\n    'takedownsAfterGainingLevelAdvantage' : 'sum', 'takedownsBeforeJungleMinionSpawn' : 'sum', 'takedownsFirstXMinutes' : 'sum', \\n    'takedownsInEnemyFountain' : 'sum', 'teamBaronKills' : 'median', 'teamElderDragonKills' : 'median', 'teamRiftHeraldKills' : 'median',\\n    'tookLargeDamageSurvived' : 'sum', 'turretPlatesTaken' : 'sum', 'turretsTakenWithRiftHerald' : 'median', 'visionScorePerMinute' : 'sum',\\n    'wardTakedowns' : 'sum', 'wardTakedownsBefore20M' : 'sum', 'wardsGuarded' : 'sum', 'junglerKillsEarlyJungle' : 'sum', \\n    'killsOnLanersEarlyJungleAsJungler' : 'sum', 'earliestBaron' : 'median', 'firstTurretKilledTime' : 'median', 'fasterSupportQuestCompletion' : 'sum',\\n    'fistBumpParticipation' : 'sum', 'voidMonsterKill' : 'sum', 'hadAfkTeammate' : 'median', 'earliestElderDragon' : 'median', 'gameEndedInEarlySurrender' : 'median'\\n    })\\n\""
      ]
     },
     "execution_count": 1050,
     "metadata": {},
     "output_type": "execute_result"
    }
   ],
   "source": [
    "df_winAgg = df_topW.groupby('matchId').agg({\n",
    "    'gameEndedInEarlySurrender' : 'median',\n",
    "    'win' : 'median',\n",
    "    'kills' : 'sum',\n",
    "    'deaths' : 'sum',\n",
    "    'assists' : 'sum'\n",
    "})\n",
    "\n",
    "'''\n",
    "'assists' : 'sum', 'baronKills' : 'sum', 'bountyLevel' : 'sum', 'damageDealtToObjectives' : 'sum', 'deaths' : 'sum', 'dragonKills' : 'sum',\n",
    "    'inhibitorKills' : 'sum', 'kills' : 'sum', 'killsNearEnemyTurret' : 'sum', 'gameEndedInEarlySurrender' : 'median', 'win' : 'median'\n",
    "'''\n",
    "\n",
    "'''\n",
    "df_winAgg = df_win.groupby('matchId').agg({\n",
    "    'assists' : 'sum', 'baronKills' : 'sum', 'bountyLevel' : 'sum', 'champExperience' : 'sum', 'consumablesPurchased' : 'sum',  \n",
    "    'damageDealtToObjectives' : 'sum', 'damageSelfMitigated' : 'sum', 'deaths' : 'sum', 'detectorWardsPlaced' : 'sum', 'doubleKills' : 'sum',\n",
    "    'dragonKills' : 'sum', 'firstBloodAssist' : 'sum', 'firstBloodKill' : 'sum', 'firstTowerKill' : 'sum', 'goldEarned' : 'sum',\n",
    "    'goldSpent' : 'sum', 'inhibitorKills' : 'sum', 'inhibitorTakedowns' : 'sum', 'inhibitorsLost' : 'mean', 'itemsPurchased' : 'sum',\n",
    "    'killingSprees' : 'sum', 'kills' : 'sum', 'magicDamageDealt' : 'sum', 'magicDamageDealtToChampions' : 'sum', 'magicDamageTaken' : 'sum',\n",
    "    'neutralMinionsKilled' : 'sum', 'objectivesStolenAssists' : 'sum', 'pentaKills' : 'sum', 'physicalDamageDealt' : 'sum', \n",
    "    'physicalDamageDealtToChampions' : 'sum', 'physicalDamageTaken' : 'sum', 'quadraKills' : 'sum',\n",
    "    'timeCCingOthers' : 'sum', 'totalAllyJungleMinionsKilled' : 'sum', 'totalDamageDealt' : 'sum', 'totalDamageDealtToChampions' : 'sum', \n",
    "    'totalDamageShieldedOnTeammates' : 'sum', 'totalDamageTaken' : 'sum', 'totalEnemyJungleMinionsKilled' : 'sum', 'totalHeal' : 'sum', \n",
    "    'totalHealsOnTeammates' : 'sum', 'totalMinionsKilled' : 'sum', 'totalTimeCCDealt' : 'sum', 'totalTimeSpentDead' : 'sum', \n",
    "    'totalUnitsHealed' : 'sum', 'tripleKills' : 'sum', 'trueDamageDealt' : 'sum', 'trueDamageDealtToChampions' : 'sum', 'trueDamageTaken' : 'sum',\n",
    "    'turretKills' : 'sum', 'turretTakedowns' : 'sum', 'turretsLost' : 'median', 'visionScore' : 'sum', 'visionWardsBoughtInGame' : 'sum', \n",
    "    'wardsKilled' : 'sum', 'wardsPlaced' : 'sum', 'win' : 'median', '12AssistStreakCount' : 'sum', 'abilityUses' : 'sum', 'acesBefore15Minutes' : 'median', \n",
    "    'alliedJungleMonsterKills': 'sum', 'baronTakedowns' : 'sum', 'bountyGold' : 'sum', 'buffsStolen' : 'sum', 'controlWardTimeCoverageInRiverOrEnemyHalf' : 'sum',\n",
    "    'controlWardsPlaced' : 'sum', 'damagePerMinute' : 'sum', 'dancedWithRiftHerald' : 'sum', 'dodgeSkillShotsSmallWindow' : 'sum', 'dragonTakedowns' : 'sum', \n",
    "    'earlyLaningPhaseGoldExpAdvantage' : 'sum', 'effectiveHealAndShielding' : 'sum', 'enemyChampionImmobilizations' : 'sum', \n",
    "    'enemyJungleMonsterKills' : 'sum', 'epicMonsterKillsNearEnemyJungler' : 'sum', 'epicMonsterKillsWithin30SecondsOfSpawn' : 'sum',\n",
    "    'epicMonsterSteals' : 'sum', 'epicMonsterStolenWithoutSmite' : 'sum', 'firstTurretKilled' : 'median', 'flawlessAces' : 'median', \n",
    "    'fullTeamTakedown' : 'median', 'goldPerMinute' : 'sum', 'hadOpenNexus' : 'median', 'immobilizeAndKillWithAlly' : 'sum', 'initialBuffCount' : 'sum', \n",
    "    'initialCrabCount' : 'sum', 'jungleCsBefore10Minutes' : 'sum', 'junglerTakedownsNearDamagedEpicMonster' : 'sum', 'kTurretsDestroyedBeforePlatesFall' : 'sum',\n",
    "    'killAfterHiddenWithAlly' : 'sum', 'killsNearEnemyTurret' : 'sum', 'getTakedownsInAllLanesEarlyJungleAsLaner': 'sum', \n",
    "    'killsOnOtherLanesEarlyJungleAsLaner' : 'sum', 'killsUnderOwnTurret' : 'sum', 'killsWithHelpFromEpicMonster' : 'sum', \n",
    "    'landSkillShotsEarlyGame' : 'sum', 'laneMinionsFirst10Minutes' : 'sum', 'laningPhaseGoldExpAdvantage' : 'sum', 'lostAnInhibitor' : 'median',\n",
    "    'maxCsAdvantageOnLaneOpponent' : 'sum', 'maxKillDeficit' : 'sum', 'maxLevelLeadLaneOpponent' : 'sum', \n",
    "    'moreEnemyJungleThanOpponent' : 'sum', 'multiTurretRiftHeraldCount' : 'median', 'multikills' : 'sum', 'multikillsAfterAggressiveFlash' : 'sum',\n",
    "    'perfectDragonSoulsTaken' : 'median', 'perfectGame' : 'median', 'pickKillWithAlly' : 'sum', 'quickFirstTurret' : 'sum', 'quickSoloKills' : 'sum',\n",
    "    'riftHeraldTakedowns' : 'sum', 'saveAllyFromDeath' : 'sum', 'scuttleCrabKills' : 'sum', 'skillshotsDodged' : 'sum', 'skillshotsHit' : 'sum',\n",
    "    'soloKills' : 'sum', 'soloTurretsLategame' : 'sum', 'stealthWardsPlaced' : 'sum', 'takedownOnFirstTurret' : 'sum', \n",
    "    'takedownsAfterGainingLevelAdvantage' : 'sum', 'takedownsBeforeJungleMinionSpawn' : 'sum', 'takedownsFirstXMinutes' : 'sum', \n",
    "    'takedownsInEnemyFountain' : 'sum', 'teamBaronKills' : 'median', 'teamElderDragonKills' : 'median', 'teamRiftHeraldKills' : 'median',\n",
    "    'tookLargeDamageSurvived' : 'sum', 'turretPlatesTaken' : 'sum', 'turretsTakenWithRiftHerald' : 'median', 'visionScorePerMinute' : 'sum',\n",
    "    'wardTakedowns' : 'sum', 'wardTakedownsBefore20M' : 'sum', 'wardsGuarded' : 'sum', 'junglerKillsEarlyJungle' : 'sum', \n",
    "    'killsOnLanersEarlyJungleAsJungler' : 'sum', 'earliestBaron' : 'median', 'firstTurretKilledTime' : 'median', 'fasterSupportQuestCompletion' : 'sum',\n",
    "    'fistBumpParticipation' : 'sum', 'voidMonsterKill' : 'sum', 'hadAfkTeammate' : 'median', 'earliestElderDragon' : 'median', 'gameEndedInEarlySurrender' : 'median'\n",
    "    })\n",
    "'''"
   ]
  },
  {
   "cell_type": "code",
   "execution_count": 1051,
   "metadata": {},
   "outputs": [
    {
     "data": {
      "text/plain": [
       "\"\\ndf_lossAgg = df_loss.groupby('matchId').agg({\\n    'assists' : 'sum', 'baronKills' : 'sum', 'bountyLevel' : 'sum', 'champExperience' : 'sum', 'consumablesPurchased' : 'sum',\\n    'damageDealtToObjectives' : 'sum', 'damageSelfMitigated' : 'sum', 'deaths' : 'sum', 'detectorWardsPlaced' : 'sum', 'doubleKills' : 'sum',\\n    'dragonKills' : 'sum', 'firstBloodAssist' : 'sum', 'firstBloodKill' : 'sum', 'firstTowerKill' : 'sum', 'goldEarned' : 'sum',\\n    'goldSpent' : 'sum', 'inhibitorKills' : 'sum', 'inhibitorTakedowns' : 'sum', 'inhibitorsLost' : 'mean', 'itemsPurchased' : 'sum',\\n    'killingSprees' : 'sum', 'kills' : 'sum', 'magicDamageDealt' : 'sum', 'magicDamageDealtToChampions' : 'sum', 'magicDamageTaken' : 'sum',\\n    'neutralMinionsKilled' : 'sum', 'objectivesStolenAssists' : 'sum', 'pentaKills' : 'sum', 'physicalDamageDealt' : 'sum', \\n    'physicalDamageDealtToChampions' : 'sum', 'physicalDamageTaken' : 'sum', 'quadraKills' : 'sum',\\n    'timeCCingOthers' : 'sum', 'totalAllyJungleMinionsKilled' : 'sum', 'totalDamageDealt' : 'sum', 'totalDamageDealtToChampions' : 'sum', \\n    'totalDamageShieldedOnTeammates' : 'sum', 'totalDamageTaken' : 'sum', 'totalEnemyJungleMinionsKilled' : 'sum', 'totalHeal' : 'sum', \\n    'totalHealsOnTeammates' : 'sum', 'totalMinionsKilled' : 'sum', 'totalTimeCCDealt' : 'sum', 'totalTimeSpentDead' : 'sum', \\n    'totalUnitsHealed' : 'sum', 'tripleKills' : 'sum', 'trueDamageDealt' : 'sum', 'trueDamageDealtToChampions' : 'sum', 'trueDamageTaken' : 'sum',\\n    'turretKills' : 'sum', 'turretTakedowns' : 'sum', 'turretsLost' : 'median', 'visionScore' : 'sum', 'visionWardsBoughtInGame' : 'sum', \\n    'wardsKilled' : 'sum', 'wardsPlaced' : 'sum', 'win' : 'median', '12AssistStreakCount' : 'sum', 'abilityUses' : 'sum', 'acesBefore15Minutes' : 'median', \\n    'alliedJungleMonsterKills': 'sum', 'baronTakedowns' : 'sum', 'bountyGold' : 'sum', 'buffsStolen' : 'sum', 'controlWardTimeCoverageInRiverOrEnemyHalf' : 'sum',\\n    'controlWardsPlaced' : 'sum', 'damagePerMinute' : 'sum', 'dancedWithRiftHerald' : 'sum', 'dodgeSkillShotsSmallWindow' : 'sum', 'dragonTakedowns' : 'sum', \\n    'earlyLaningPhaseGoldExpAdvantage' : 'sum', 'effectiveHealAndShielding' : 'sum', 'enemyChampionImmobilizations' : 'sum', \\n    'enemyJungleMonsterKills' : 'sum', 'epicMonsterKillsNearEnemyJungler' : 'sum', 'epicMonsterKillsWithin30SecondsOfSpawn' : 'sum',\\n    'epicMonsterSteals' : 'sum', 'epicMonsterStolenWithoutSmite' : 'sum', 'firstTurretKilled' : 'median', 'flawlessAces' : 'median', \\n    'fullTeamTakedown' : 'median', 'goldPerMinute' : 'sum', 'hadOpenNexus' : 'median', 'immobilizeAndKillWithAlly' : 'sum', 'initialBuffCount' : 'sum', \\n    'initialCrabCount' : 'sum', 'jungleCsBefore10Minutes' : 'sum', 'junglerTakedownsNearDamagedEpicMonster' : 'sum', 'kTurretsDestroyedBeforePlatesFall' : 'sum',\\n    'killAfterHiddenWithAlly' : 'sum', 'killsNearEnemyTurret' : 'sum', 'getTakedownsInAllLanesEarlyJungleAsLaner': 'sum', \\n    'killsOnOtherLanesEarlyJungleAsLaner' : 'sum', 'killsUnderOwnTurret' : 'sum', 'killsWithHelpFromEpicMonster' : 'sum', \\n    'landSkillShotsEarlyGame' : 'sum', 'laneMinionsFirst10Minutes' : 'sum', 'laningPhaseGoldExpAdvantage' : 'sum', 'lostAnInhibitor' : 'median',\\n    'maxCsAdvantageOnLaneOpponent' : 'sum', 'maxKillDeficit' : 'sum', 'maxLevelLeadLaneOpponent' : 'sum', \\n    'moreEnemyJungleThanOpponent' : 'sum', 'multiTurretRiftHeraldCount' : 'median', 'multikills' : 'sum', 'multikillsAfterAggressiveFlash' : 'sum',\\n    'perfectDragonSoulsTaken' : 'median', 'perfectGame' : 'median', 'pickKillWithAlly' : 'sum', 'quickFirstTurret' : 'sum', 'quickSoloKills' : 'sum',\\n    'riftHeraldTakedowns' : 'sum', 'saveAllyFromDeath' : 'sum', 'scuttleCrabKills' : 'sum', 'skillshotsDodged' : 'sum', 'skillshotsHit' : 'sum',\\n    'soloKills' : 'sum', 'soloTurretsLategame' : 'sum', 'stealthWardsPlaced' : 'sum', 'takedownOnFirstTurret' : 'sum', \\n    'takedownsAfterGainingLevelAdvantage' : 'sum', 'takedownsBeforeJungleMinionSpawn' : 'sum', 'takedownsFirstXMinutes' : 'sum', \\n    'takedownsInEnemyFountain' : 'sum', 'teamBaronKills' : 'median', 'teamElderDragonKills' : 'median', 'teamRiftHeraldKills' : 'median',\\n    'tookLargeDamageSurvived' : 'sum', 'turretPlatesTaken' : 'sum', 'turretsTakenWithRiftHerald' : 'median', 'visionScorePerMinute' : 'sum',\\n    'wardTakedowns' : 'sum', 'wardTakedownsBefore20M' : 'sum', 'wardsGuarded' : 'sum', 'junglerKillsEarlyJungle' : 'sum', \\n    'killsOnLanersEarlyJungleAsJungler' : 'sum', 'earliestBaron' : 'median', 'firstTurretKilledTime' : 'median', 'fasterSupportQuestCompletion' : 'sum',\\n    'fistBumpParticipation' : 'sum', 'voidMonsterKill' : 'sum', 'hadAfkTeammate' : 'median', 'earliestElderDragon' : 'median', 'gameEndedInEarlySurrender' : 'median' \\n    })\\n\""
      ]
     },
     "execution_count": 1051,
     "metadata": {},
     "output_type": "execute_result"
    }
   ],
   "source": [
    "df_lossAgg = df_loss.groupby('matchId').agg({\n",
    "    'gameEndedInEarlySurrender' : 'median',\n",
    "    'win' : 'median',\n",
    "    'kills': 'sum',\n",
    "    'deaths' : 'sum',\n",
    "    'assists' : 'sum'\n",
    "})\n",
    "\n",
    "'''\n",
    "'assists' : 'sum', 'baronKills' : 'sum', 'bountyLevel' : 'sum', 'damageDealtToObjectives' : 'sum', 'deaths' : 'sum', 'dragonKills' : 'sum',\n",
    "    'inhibitorKills' : 'sum', 'kills' : 'sum', 'killsNearEnemyTurret' : 'sum', 'gameEndedInEarlySurrender' : 'median', 'win' : 'median'\n",
    "'''\n",
    "\n",
    "'''\n",
    "df_lossAgg = df_loss.groupby('matchId').agg({\n",
    "    'assists' : 'sum', 'baronKills' : 'sum', 'bountyLevel' : 'sum', 'champExperience' : 'sum', 'consumablesPurchased' : 'sum',\n",
    "    'damageDealtToObjectives' : 'sum', 'damageSelfMitigated' : 'sum', 'deaths' : 'sum', 'detectorWardsPlaced' : 'sum', 'doubleKills' : 'sum',\n",
    "    'dragonKills' : 'sum', 'firstBloodAssist' : 'sum', 'firstBloodKill' : 'sum', 'firstTowerKill' : 'sum', 'goldEarned' : 'sum',\n",
    "    'goldSpent' : 'sum', 'inhibitorKills' : 'sum', 'inhibitorTakedowns' : 'sum', 'inhibitorsLost' : 'mean', 'itemsPurchased' : 'sum',\n",
    "    'killingSprees' : 'sum', 'kills' : 'sum', 'magicDamageDealt' : 'sum', 'magicDamageDealtToChampions' : 'sum', 'magicDamageTaken' : 'sum',\n",
    "    'neutralMinionsKilled' : 'sum', 'objectivesStolenAssists' : 'sum', 'pentaKills' : 'sum', 'physicalDamageDealt' : 'sum', \n",
    "    'physicalDamageDealtToChampions' : 'sum', 'physicalDamageTaken' : 'sum', 'quadraKills' : 'sum',\n",
    "    'timeCCingOthers' : 'sum', 'totalAllyJungleMinionsKilled' : 'sum', 'totalDamageDealt' : 'sum', 'totalDamageDealtToChampions' : 'sum', \n",
    "    'totalDamageShieldedOnTeammates' : 'sum', 'totalDamageTaken' : 'sum', 'totalEnemyJungleMinionsKilled' : 'sum', 'totalHeal' : 'sum', \n",
    "    'totalHealsOnTeammates' : 'sum', 'totalMinionsKilled' : 'sum', 'totalTimeCCDealt' : 'sum', 'totalTimeSpentDead' : 'sum', \n",
    "    'totalUnitsHealed' : 'sum', 'tripleKills' : 'sum', 'trueDamageDealt' : 'sum', 'trueDamageDealtToChampions' : 'sum', 'trueDamageTaken' : 'sum',\n",
    "    'turretKills' : 'sum', 'turretTakedowns' : 'sum', 'turretsLost' : 'median', 'visionScore' : 'sum', 'visionWardsBoughtInGame' : 'sum', \n",
    "    'wardsKilled' : 'sum', 'wardsPlaced' : 'sum', 'win' : 'median', '12AssistStreakCount' : 'sum', 'abilityUses' : 'sum', 'acesBefore15Minutes' : 'median', \n",
    "    'alliedJungleMonsterKills': 'sum', 'baronTakedowns' : 'sum', 'bountyGold' : 'sum', 'buffsStolen' : 'sum', 'controlWardTimeCoverageInRiverOrEnemyHalf' : 'sum',\n",
    "    'controlWardsPlaced' : 'sum', 'damagePerMinute' : 'sum', 'dancedWithRiftHerald' : 'sum', 'dodgeSkillShotsSmallWindow' : 'sum', 'dragonTakedowns' : 'sum', \n",
    "    'earlyLaningPhaseGoldExpAdvantage' : 'sum', 'effectiveHealAndShielding' : 'sum', 'enemyChampionImmobilizations' : 'sum', \n",
    "    'enemyJungleMonsterKills' : 'sum', 'epicMonsterKillsNearEnemyJungler' : 'sum', 'epicMonsterKillsWithin30SecondsOfSpawn' : 'sum',\n",
    "    'epicMonsterSteals' : 'sum', 'epicMonsterStolenWithoutSmite' : 'sum', 'firstTurretKilled' : 'median', 'flawlessAces' : 'median', \n",
    "    'fullTeamTakedown' : 'median', 'goldPerMinute' : 'sum', 'hadOpenNexus' : 'median', 'immobilizeAndKillWithAlly' : 'sum', 'initialBuffCount' : 'sum', \n",
    "    'initialCrabCount' : 'sum', 'jungleCsBefore10Minutes' : 'sum', 'junglerTakedownsNearDamagedEpicMonster' : 'sum', 'kTurretsDestroyedBeforePlatesFall' : 'sum',\n",
    "    'killAfterHiddenWithAlly' : 'sum', 'killsNearEnemyTurret' : 'sum', 'getTakedownsInAllLanesEarlyJungleAsLaner': 'sum', \n",
    "    'killsOnOtherLanesEarlyJungleAsLaner' : 'sum', 'killsUnderOwnTurret' : 'sum', 'killsWithHelpFromEpicMonster' : 'sum', \n",
    "    'landSkillShotsEarlyGame' : 'sum', 'laneMinionsFirst10Minutes' : 'sum', 'laningPhaseGoldExpAdvantage' : 'sum', 'lostAnInhibitor' : 'median',\n",
    "    'maxCsAdvantageOnLaneOpponent' : 'sum', 'maxKillDeficit' : 'sum', 'maxLevelLeadLaneOpponent' : 'sum', \n",
    "    'moreEnemyJungleThanOpponent' : 'sum', 'multiTurretRiftHeraldCount' : 'median', 'multikills' : 'sum', 'multikillsAfterAggressiveFlash' : 'sum',\n",
    "    'perfectDragonSoulsTaken' : 'median', 'perfectGame' : 'median', 'pickKillWithAlly' : 'sum', 'quickFirstTurret' : 'sum', 'quickSoloKills' : 'sum',\n",
    "    'riftHeraldTakedowns' : 'sum', 'saveAllyFromDeath' : 'sum', 'scuttleCrabKills' : 'sum', 'skillshotsDodged' : 'sum', 'skillshotsHit' : 'sum',\n",
    "    'soloKills' : 'sum', 'soloTurretsLategame' : 'sum', 'stealthWardsPlaced' : 'sum', 'takedownOnFirstTurret' : 'sum', \n",
    "    'takedownsAfterGainingLevelAdvantage' : 'sum', 'takedownsBeforeJungleMinionSpawn' : 'sum', 'takedownsFirstXMinutes' : 'sum', \n",
    "    'takedownsInEnemyFountain' : 'sum', 'teamBaronKills' : 'median', 'teamElderDragonKills' : 'median', 'teamRiftHeraldKills' : 'median',\n",
    "    'tookLargeDamageSurvived' : 'sum', 'turretPlatesTaken' : 'sum', 'turretsTakenWithRiftHerald' : 'median', 'visionScorePerMinute' : 'sum',\n",
    "    'wardTakedowns' : 'sum', 'wardTakedownsBefore20M' : 'sum', 'wardsGuarded' : 'sum', 'junglerKillsEarlyJungle' : 'sum', \n",
    "    'killsOnLanersEarlyJungleAsJungler' : 'sum', 'earliestBaron' : 'median', 'firstTurretKilledTime' : 'median', 'fasterSupportQuestCompletion' : 'sum',\n",
    "    'fistBumpParticipation' : 'sum', 'voidMonsterKill' : 'sum', 'hadAfkTeammate' : 'median', 'earliestElderDragon' : 'median', 'gameEndedInEarlySurrender' : 'median' \n",
    "    })\n",
    "'''"
   ]
  },
  {
   "cell_type": "markdown",
   "metadata": {},
   "source": [
    "visualize data"
   ]
  },
  {
   "cell_type": "code",
   "execution_count": 1052,
   "metadata": {},
   "outputs": [
    {
     "data": {
      "text/plain": [
       "\"\\nfor label in df_winAgg.columns:\\n    plt.hist(df_winAgg[label], color = 'blue', label = 'win', alpha =0.7, density = True)\\n    plt.hist(df_lossAgg[label], color = 'red', label = 'loss', alpha =0.7, density = True)\\n    plt.title(label)\\n    plt.ylabel('probability')\\n    plt.xlabel(label)\\n    plt.legend()\\n    plt.show()\\n\""
      ]
     },
     "execution_count": 1052,
     "metadata": {},
     "output_type": "execute_result"
    }
   ],
   "source": [
    "'''\n",
    "for label in df_winAgg.columns:\n",
    "    plt.hist(df_winAgg[label], color = 'blue', label = 'win', alpha =0.7, density = True)\n",
    "    plt.hist(df_lossAgg[label], color = 'red', label = 'loss', alpha =0.7, density = True)\n",
    "    plt.title(label)\n",
    "    plt.ylabel('probability')\n",
    "    plt.xlabel(label)\n",
    "    plt.legend()\n",
    "    plt.show()\n",
    "'''"
   ]
  },
  {
   "cell_type": "markdown",
   "metadata": {},
   "source": [
    "scale data and create train, valid, and test datasets"
   ]
  },
  {
   "cell_type": "code",
   "execution_count": 1053,
   "metadata": {},
   "outputs": [
    {
     "name": "stdout",
     "output_type": "stream",
     "text": [
      "(200, 5)\n",
      "(190, 4)\n"
     ]
    }
   ],
   "source": [
    "#creating W/L dataframe\n",
    "dfWL = pd.concat([df_winAgg, df_lossAgg])\n",
    "print(dfWL.shape)\n",
    "\n",
    "#removing remakes\n",
    "dfWL = dfWL[dfWL['gameEndedInEarlySurrender'] == 0]\n",
    "dfWL.pop('gameEndedInEarlySurrender')\n",
    "print(dfWL.shape)\n"
   ]
  },
  {
   "cell_type": "code",
   "execution_count": 1054,
   "metadata": {},
   "outputs": [
    {
     "name": "stderr",
     "output_type": "stream",
     "text": [
      "c:\\dev\\lol_data_project\\venv\\Lib\\site-packages\\numpy\\core\\fromnumeric.py:59: FutureWarning: 'DataFrame.swapaxes' is deprecated and will be removed in a future version. Please use 'DataFrame.transpose' instead.\n",
      "  return bound(*args, **kwds)\n"
     ]
    }
   ],
   "source": [
    "train, valid, test = np.split(dfWL.sample(frac=1), [int(0.6*len(dfWL)), int(0.8*len(dfWL))])"
   ]
  },
  {
   "cell_type": "code",
   "execution_count": 1055,
   "metadata": {},
   "outputs": [
    {
     "name": "stdout",
     "output_type": "stream",
     "text": [
      "58\n",
      "56\n"
     ]
    }
   ],
   "source": [
    "print(len(train[train['win'] == 1]))\n",
    "print(len(train[train['win'] == 0]))"
   ]
  },
  {
   "cell_type": "code",
   "execution_count": 1056,
   "metadata": {},
   "outputs": [],
   "source": [
    "def scale_data(data, oversample=False): \n",
    "\n",
    "    x = data.drop(columns = 'win').values\n",
    "    y = data['win'].values\n",
    "\n",
    "    scaler = StandardScaler()\n",
    "    x = scaler.fit_transform(x)\n",
    "\n",
    "    if oversample:\n",
    "        ros = RandomOverSampler()\n",
    "        x,y = ros.fit_resample(x,y)\n",
    "    data = np.hstack((x, np.reshape(y, (-1,1))))\n",
    "\n",
    "    return data, x, y\n"
   ]
  },
  {
   "cell_type": "code",
   "execution_count": 1057,
   "metadata": {},
   "outputs": [],
   "source": [
    "train, x_train, y_train = scale_data(train, oversample=True)\n",
    "valid, x_valid, y_valid = scale_data(valid)\n",
    "test, x_test, y_test = scale_data(test)"
   ]
  },
  {
   "cell_type": "markdown",
   "metadata": {},
   "source": [
    "NAIVE BAYES"
   ]
  },
  {
   "cell_type": "code",
   "execution_count": 1058,
   "metadata": {},
   "outputs": [],
   "source": [
    "from sklearn.naive_bayes import GaussianNB"
   ]
  },
  {
   "cell_type": "code",
   "execution_count": 1059,
   "metadata": {},
   "outputs": [],
   "source": [
    "nb_model = GaussianNB()\n",
    "nb_model = nb_model.fit(X = x_train, y= y_train)"
   ]
  },
  {
   "cell_type": "code",
   "execution_count": 1060,
   "metadata": {},
   "outputs": [
    {
     "name": "stdout",
     "output_type": "stream",
     "text": [
      "              precision    recall  f1-score   support\n",
      "\n",
      "         0.0       1.00      0.86      0.92        21\n",
      "         1.0       0.85      1.00      0.92        17\n",
      "\n",
      "    accuracy                           0.92        38\n",
      "   macro avg       0.93      0.93      0.92        38\n",
      "weighted avg       0.93      0.92      0.92        38\n",
      "\n"
     ]
    }
   ],
   "source": [
    "y_pred = nb_model.predict(x_test)\n",
    "print(classification_report(y_test, y_pred))"
   ]
  },
  {
   "cell_type": "markdown",
   "metadata": {},
   "source": [
    "CREATING POSITIONAL DATA FOR MACHINE LEARNING"
   ]
  },
  {
   "cell_type": "code",
   "execution_count": 1061,
   "metadata": {},
   "outputs": [],
   "source": [
    "df = df[df['gameEndedInEarlySurrender'] == 0]\n",
    "\n",
    "df_win = df[df['win'] == 1]\n",
    "df_loss = df[df['win'] == 0]\n",
    "\n",
    "df_topW = df_win[df_win['teamPosition'] == 'TOP']\n",
    "df_topL = df_loss[df_loss['teamPosition'] == 'TOP']\n",
    "\n",
    "df_midW = df_win[df_win['teamPosition'] == 'MIDDLE']\n",
    "df_midL = df_loss[df_loss['teamPosition'] == 'MIDDLE']\n",
    "\n",
    "df_jgW = df_win[df_win['teamPosition'] == 'JUNGLE']\n",
    "df_jgL = df_loss[df_loss['teamPosition'] == 'JUNGLE']\n",
    "\n",
    "df_botW = df_win[df_win['teamPosition'] == 'BOTTOM']\n",
    "df_botL = df_loss[df_loss['teamPosition'] == 'BOTTOM']\n",
    "\n",
    "df_supW = df_win[df_win['teamPosition'] == 'UTILITY']\n",
    "df_supL = df_loss[df_loss['teamPosition'] == 'UTILITY']"
   ]
  },
  {
   "cell_type": "markdown",
   "metadata": {},
   "source": [
    "TOP"
   ]
  },
  {
   "cell_type": "code",
   "execution_count": 1062,
   "metadata": {},
   "outputs": [],
   "source": [
    "df_topW = df_topW[['kills', 'deaths', 'assists', 'gameEndedInEarlySurrender','win',\n",
    "                   'champExperience', 'bountyLevel', 'bountyGold',\n",
    "                   'damageDealtToBuildings', 'damageDealtToObjectives', 'damageDealtToTurrets',\n",
    "                   'damageSelfMitigated', 'goldEarned', 'largestKillingSpree',\n",
    "                   'magicDamageDealtToChampions', 'magicDamageTaken', 'neutralMinionsKilled',\n",
    "                   'physicalDamageDealt', 'physicalDamageDealtToChampions', 'physicalDamageTaken',\n",
    "                   'timeCCingOthers', 'totalDamageDealt', 'totalDamageDealtToChampions', 'totalDamageTaken',\n",
    "                   'totalDamageShieldedOnTeammates', 'totalHeal', 'totalMinionsKilled', 'totalTimeCCDealt',\n",
    "                   'totalTimeSpentDead', 'trueDamageDealt', 'trueDamageDealtToChampions', 'trueDamageTaken',\n",
    "                   'turretKills', 'visionScore', 'wardsKilled', 'wardsPlaced', 'damagePerMinute',\n",
    "                   'damageTakenOnTeamPercentage', 'earlyLaningPhaseGoldExpAdvantage', \n",
    "                   'kda', 'killParticipation', 'killsNearEnemyTurret', 'laneMinionsFirst10Minutes',\n",
    "                   'laningPhaseGoldExpAdvantage', 'maxCsAdvantageOnLaneOpponent', 'maxKillDeficit',\n",
    "                   'maxLevelLeadLaneOpponent', 'soloKills', 'soloTurretsLategame', 'teamDamagePercentage',\n",
    "                   'turretPlatesTaken']]\n",
    "\n",
    "df_topL = df_topL[['kills', 'deaths', 'assists', 'gameEndedInEarlySurrender','win',\n",
    "                   'champExperience', 'bountyLevel', 'bountyGold', \n",
    "                   'damageDealtToBuildings', 'damageDealtToObjectives', 'damageDealtToTurrets',\n",
    "                   'damageSelfMitigated', 'goldEarned', 'largestKillingSpree',\n",
    "                   'magicDamageDealtToChampions', 'magicDamageTaken', 'neutralMinionsKilled',\n",
    "                   'physicalDamageDealt', 'physicalDamageDealtToChampions', 'physicalDamageTaken',\n",
    "                   'timeCCingOthers', 'totalDamageDealt', 'totalDamageDealtToChampions', 'totalDamageTaken',\n",
    "                   'totalDamageShieldedOnTeammates', 'totalHeal', 'totalMinionsKilled', 'totalTimeCCDealt',\n",
    "                   'totalTimeSpentDead', 'trueDamageDealt', 'trueDamageDealtToChampions', 'trueDamageTaken',\n",
    "                   'turretKills', 'visionScore', 'wardsKilled', 'wardsPlaced', 'damagePerMinute',\n",
    "                   'damageTakenOnTeamPercentage', 'earlyLaningPhaseGoldExpAdvantage', \n",
    "                   'kda', 'killParticipation', 'killsNearEnemyTurret', 'laneMinionsFirst10Minutes',\n",
    "                   'laningPhaseGoldExpAdvantage', 'maxCsAdvantageOnLaneOpponent', 'maxKillDeficit',\n",
    "                   'maxLevelLeadLaneOpponent', 'soloKills', 'soloTurretsLategame', 'teamDamagePercentage',\n",
    "                   'turretPlatesTaken']]"
   ]
  },
  {
   "cell_type": "markdown",
   "metadata": {},
   "source": [
    "MIDDLE"
   ]
  },
  {
   "cell_type": "code",
   "execution_count": 1063,
   "metadata": {},
   "outputs": [],
   "source": [
    "df_midW = df_midW[['kills', 'deaths', 'assists', 'gameEndedInEarlySurrender','win',\n",
    "                   'champExperience', 'bountyLevel', 'bountyGold',\n",
    "                   'damageDealtToBuildings', 'damageDealtToObjectives', 'damageDealtToTurrets',\n",
    "                   'damageSelfMitigated', 'goldEarned', 'largestKillingSpree',\n",
    "                   'magicDamageDealtToChampions', 'magicDamageTaken', 'neutralMinionsKilled',\n",
    "                   'physicalDamageDealt', 'physicalDamageDealtToChampions', 'physicalDamageTaken',\n",
    "                   'timeCCingOthers', 'totalDamageDealt', 'totalDamageDealtToChampions', 'totalDamageTaken',\n",
    "                   'totalDamageShieldedOnTeammates', 'totalHeal', 'totalMinionsKilled', 'totalTimeCCDealt',\n",
    "                   'totalTimeSpentDead', 'trueDamageDealt', 'trueDamageDealtToChampions', 'trueDamageTaken',\n",
    "                   'turretKills', 'visionScore', 'wardsKilled', 'wardsPlaced', 'damagePerMinute',\n",
    "                   'damageTakenOnTeamPercentage', 'earlyLaningPhaseGoldExpAdvantage', \n",
    "                   'kda', 'killParticipation', 'killsNearEnemyTurret', 'laneMinionsFirst10Minutes',\n",
    "                   'laningPhaseGoldExpAdvantage', 'maxCsAdvantageOnLaneOpponent', 'maxKillDeficit',\n",
    "                   'maxLevelLeadLaneOpponent', 'soloKills', 'soloTurretsLategame', 'teamDamagePercentage',\n",
    "                   'turretPlatesTaken']]\n",
    "\n",
    "df_midL = df_midL[['kills', 'deaths', 'assists', 'gameEndedInEarlySurrender','win',\n",
    "                   'champExperience', 'bountyLevel', 'bountyGold', \n",
    "                   'damageDealtToBuildings', 'damageDealtToObjectives', 'damageDealtToTurrets',\n",
    "                   'damageSelfMitigated', 'goldEarned', 'largestKillingSpree',\n",
    "                   'magicDamageDealtToChampions', 'magicDamageTaken', 'neutralMinionsKilled',\n",
    "                   'physicalDamageDealt', 'physicalDamageDealtToChampions', 'physicalDamageTaken',\n",
    "                   'timeCCingOthers', 'totalDamageDealt', 'totalDamageDealtToChampions', 'totalDamageTaken',\n",
    "                   'totalDamageShieldedOnTeammates', 'totalHeal', 'totalMinionsKilled', 'totalTimeCCDealt',\n",
    "                   'totalTimeSpentDead', 'trueDamageDealt', 'trueDamageDealtToChampions', 'trueDamageTaken',\n",
    "                   'turretKills', 'visionScore', 'wardsKilled', 'wardsPlaced', 'damagePerMinute',\n",
    "                   'damageTakenOnTeamPercentage', 'earlyLaningPhaseGoldExpAdvantage', \n",
    "                   'kda', 'killParticipation', 'killsNearEnemyTurret', 'laneMinionsFirst10Minutes',\n",
    "                   'laningPhaseGoldExpAdvantage', 'maxCsAdvantageOnLaneOpponent', 'maxKillDeficit',\n",
    "                   'maxLevelLeadLaneOpponent', 'soloKills', 'soloTurretsLategame', 'teamDamagePercentage',\n",
    "                   'turretPlatesTaken']]"
   ]
  },
  {
   "cell_type": "markdown",
   "metadata": {},
   "source": [
    "JUNGLE"
   ]
  },
  {
   "cell_type": "code",
   "execution_count": 1064,
   "metadata": {},
   "outputs": [],
   "source": [
    "df_jgW = df_jgW[['kills', 'deaths', 'assists', 'gameEndedInEarlySurrender','win',\n",
    "                   'champExperience', 'bountyLevel', 'bountyGold',\n",
    "                   'damageDealtToBuildings', 'damageDealtToObjectives', 'damageDealtToTurrets',\n",
    "                   'damageSelfMitigated', 'goldEarned', 'largestKillingSpree',\n",
    "                   'magicDamageDealtToChampions', 'magicDamageTaken', 'neutralMinionsKilled',\n",
    "                   'physicalDamageDealt', 'physicalDamageDealtToChampions', 'physicalDamageTaken',\n",
    "                   'timeCCingOthers', 'totalDamageDealt', 'totalDamageDealtToChampions', 'totalDamageTaken',\n",
    "                   'totalDamageShieldedOnTeammates', 'totalHeal', 'totalMinionsKilled', 'totalTimeCCDealt',\n",
    "                   'totalTimeSpentDead', 'trueDamageDealt', 'trueDamageDealtToChampions', 'trueDamageTaken',\n",
    "                   'turretKills', 'visionScore', 'wardsKilled', 'wardsPlaced', 'damagePerMinute',\n",
    "                   'damageTakenOnTeamPercentage', 'earlyLaningPhaseGoldExpAdvantage', \n",
    "                   'kda', 'killParticipation', 'killsNearEnemyTurret', 'laneMinionsFirst10Minutes',\n",
    "                   'laningPhaseGoldExpAdvantage', 'maxCsAdvantageOnLaneOpponent', 'maxKillDeficit',\n",
    "                   'maxLevelLeadLaneOpponent', 'soloKills', 'soloTurretsLategame', 'teamDamagePercentage',\n",
    "                   'turretPlatesTaken']]\n",
    "\n",
    "df_jgL = df_jgL[['kills', 'deaths', 'assists', 'gameEndedInEarlySurrender','win',\n",
    "                   'champExperience', 'bountyLevel', 'bountyGold', \n",
    "                   'damageDealtToBuildings', 'damageDealtToObjectives', 'damageDealtToTurrets',\n",
    "                   'damageSelfMitigated', 'goldEarned', 'largestKillingSpree',\n",
    "                   'magicDamageDealtToChampions', 'magicDamageTaken', 'neutralMinionsKilled',\n",
    "                   'physicalDamageDealt', 'physicalDamageDealtToChampions', 'physicalDamageTaken',\n",
    "                   'timeCCingOthers', 'totalDamageDealt', 'totalDamageDealtToChampions', 'totalDamageTaken',\n",
    "                   'totalDamageShieldedOnTeammates', 'totalHeal', 'totalMinionsKilled', 'totalTimeCCDealt',\n",
    "                   'totalTimeSpentDead', 'trueDamageDealt', 'trueDamageDealtToChampions', 'trueDamageTaken',\n",
    "                   'turretKills', 'visionScore', 'wardsKilled', 'wardsPlaced', 'damagePerMinute',\n",
    "                   'damageTakenOnTeamPercentage', 'earlyLaningPhaseGoldExpAdvantage', \n",
    "                   'kda', 'killParticipation', 'killsNearEnemyTurret', 'laneMinionsFirst10Minutes',\n",
    "                   'laningPhaseGoldExpAdvantage', 'maxCsAdvantageOnLaneOpponent', 'maxKillDeficit',\n",
    "                   'maxLevelLeadLaneOpponent', 'soloKills', 'soloTurretsLategame', 'teamDamagePercentage',\n",
    "                   'turretPlatesTaken']]"
   ]
  },
  {
   "cell_type": "markdown",
   "metadata": {},
   "source": [
    "BOTTOM"
   ]
  },
  {
   "cell_type": "code",
   "execution_count": 1065,
   "metadata": {},
   "outputs": [],
   "source": [
    "df_botW = df_botW[['kills', 'deaths', 'assists', 'gameEndedInEarlySurrender','win',\n",
    "                   'champExperience', 'bountyLevel', 'bountyGold',\n",
    "                   'damageDealtToBuildings', 'damageDealtToObjectives', 'damageDealtToTurrets',\n",
    "                   'damageSelfMitigated', 'goldEarned', 'largestKillingSpree',\n",
    "                   'magicDamageDealtToChampions', 'magicDamageTaken', 'neutralMinionsKilled',\n",
    "                   'physicalDamageDealt', 'physicalDamageDealtToChampions', 'physicalDamageTaken',\n",
    "                   'timeCCingOthers', 'totalDamageDealt', 'totalDamageDealtToChampions', 'totalDamageTaken',\n",
    "                   'totalDamageShieldedOnTeammates', 'totalHeal', 'totalMinionsKilled', 'totalTimeCCDealt',\n",
    "                   'totalTimeSpentDead', 'trueDamageDealt', 'trueDamageDealtToChampions', 'trueDamageTaken',\n",
    "                   'turretKills', 'visionScore', 'wardsKilled', 'wardsPlaced', 'damagePerMinute',\n",
    "                   'damageTakenOnTeamPercentage', 'earlyLaningPhaseGoldExpAdvantage', \n",
    "                   'kda', 'killParticipation', 'killsNearEnemyTurret', 'laneMinionsFirst10Minutes',\n",
    "                   'laningPhaseGoldExpAdvantage', 'maxCsAdvantageOnLaneOpponent', 'maxKillDeficit',\n",
    "                   'maxLevelLeadLaneOpponent', 'soloKills', 'soloTurretsLategame', 'teamDamagePercentage',\n",
    "                   'turretPlatesTaken']]\n",
    "\n",
    "df_botL = df_botL[['kills', 'deaths', 'assists', 'gameEndedInEarlySurrender','win',\n",
    "                   'champExperience', 'bountyLevel', 'bountyGold', \n",
    "                   'damageDealtToBuildings', 'damageDealtToObjectives', 'damageDealtToTurrets',\n",
    "                   'damageSelfMitigated', 'goldEarned', 'largestKillingSpree',\n",
    "                   'magicDamageDealtToChampions', 'magicDamageTaken', 'neutralMinionsKilled',\n",
    "                   'physicalDamageDealt', 'physicalDamageDealtToChampions', 'physicalDamageTaken',\n",
    "                   'timeCCingOthers', 'totalDamageDealt', 'totalDamageDealtToChampions', 'totalDamageTaken',\n",
    "                   'totalDamageShieldedOnTeammates', 'totalHeal', 'totalMinionsKilled', 'totalTimeCCDealt',\n",
    "                   'totalTimeSpentDead', 'trueDamageDealt', 'trueDamageDealtToChampions', 'trueDamageTaken',\n",
    "                   'turretKills', 'visionScore', 'wardsKilled', 'wardsPlaced', 'damagePerMinute',\n",
    "                   'damageTakenOnTeamPercentage', 'earlyLaningPhaseGoldExpAdvantage', \n",
    "                   'kda', 'killParticipation', 'killsNearEnemyTurret', 'laneMinionsFirst10Minutes',\n",
    "                   'laningPhaseGoldExpAdvantage', 'maxCsAdvantageOnLaneOpponent', 'maxKillDeficit',\n",
    "                   'maxLevelLeadLaneOpponent', 'soloKills', 'soloTurretsLategame', 'teamDamagePercentage',\n",
    "                   'turretPlatesTaken']]"
   ]
  },
  {
   "cell_type": "markdown",
   "metadata": {},
   "source": [
    "SUPPORT"
   ]
  },
  {
   "cell_type": "code",
   "execution_count": 1066,
   "metadata": {},
   "outputs": [],
   "source": [
    "df_supW = df_supW[['kills', 'deaths', 'assists', 'gameEndedInEarlySurrender','win',\n",
    "                   'champExperience', 'bountyLevel', 'bountyGold',\n",
    "                   'damageDealtToBuildings', 'damageDealtToObjectives', 'damageDealtToTurrets',\n",
    "                   'damageSelfMitigated', 'goldEarned', 'largestKillingSpree',\n",
    "                   'magicDamageDealtToChampions', 'magicDamageTaken', 'neutralMinionsKilled',\n",
    "                   'physicalDamageDealt', 'physicalDamageDealtToChampions', 'physicalDamageTaken',\n",
    "                   'timeCCingOthers', 'totalDamageDealt', 'totalDamageDealtToChampions', 'totalDamageTaken',\n",
    "                   'totalDamageShieldedOnTeammates', 'totalHeal', 'totalMinionsKilled', 'totalTimeCCDealt',\n",
    "                   'totalTimeSpentDead', 'trueDamageDealt', 'trueDamageDealtToChampions', 'trueDamageTaken',\n",
    "                   'turretKills', 'visionScore', 'wardsKilled', 'wardsPlaced', 'damagePerMinute',\n",
    "                   'damageTakenOnTeamPercentage', 'earlyLaningPhaseGoldExpAdvantage', \n",
    "                   'kda', 'killParticipation', 'killsNearEnemyTurret', 'laneMinionsFirst10Minutes',\n",
    "                   'laningPhaseGoldExpAdvantage', 'maxCsAdvantageOnLaneOpponent', 'maxKillDeficit',\n",
    "                   'maxLevelLeadLaneOpponent', 'soloKills', 'soloTurretsLategame', 'teamDamagePercentage',\n",
    "                   'turretPlatesTaken']]\n",
    "\n",
    "df_supL = df_supL[['kills', 'deaths', 'assists', 'gameEndedInEarlySurrender','win',\n",
    "                   'champExperience', 'bountyLevel', 'bountyGold', \n",
    "                   'damageDealtToBuildings', 'damageDealtToObjectives', 'damageDealtToTurrets',\n",
    "                   'damageSelfMitigated', 'goldEarned', 'largestKillingSpree',\n",
    "                   'magicDamageDealtToChampions', 'magicDamageTaken', 'neutralMinionsKilled',\n",
    "                   'physicalDamageDealt', 'physicalDamageDealtToChampions', 'physicalDamageTaken',\n",
    "                   'timeCCingOthers', 'totalDamageDealt', 'totalDamageDealtToChampions', 'totalDamageTaken',\n",
    "                   'totalDamageShieldedOnTeammates', 'totalHeal', 'totalMinionsKilled', 'totalTimeCCDealt',\n",
    "                   'totalTimeSpentDead', 'trueDamageDealt', 'trueDamageDealtToChampions', 'trueDamageTaken',\n",
    "                   'turretKills', 'visionScore', 'wardsKilled', 'wardsPlaced', 'damagePerMinute',\n",
    "                   'damageTakenOnTeamPercentage', 'earlyLaningPhaseGoldExpAdvantage', \n",
    "                   'kda', 'killParticipation', 'killsNearEnemyTurret', 'laneMinionsFirst10Minutes',\n",
    "                   'laningPhaseGoldExpAdvantage', 'maxCsAdvantageOnLaneOpponent', 'maxKillDeficit',\n",
    "                   'maxLevelLeadLaneOpponent', 'soloKills', 'soloTurretsLategame', 'teamDamagePercentage',\n",
    "                   'turretPlatesTaken']]"
   ]
  },
  {
   "cell_type": "code",
   "execution_count": 1067,
   "metadata": {},
   "outputs": [
    {
     "data": {
      "text/plain": [
       "\"\\nfor label in df_topW.columns:\\n    plt.hist(df_topW[label], color = 'blue', label = 'win', alpha =0.7, density = True)\\n    plt.hist(df_topL[label], color = 'red', label = 'loss', alpha =0.7, density = True)\\n    plt.title(label)\\n    plt.ylabel('probability')\\n    plt.xlabel(label)\\n    plt.legend()\\n    plt.show()\\n\""
      ]
     },
     "execution_count": 1067,
     "metadata": {},
     "output_type": "execute_result"
    }
   ],
   "source": [
    "'''\n",
    "for label in df_topW.columns:\n",
    "    plt.hist(df_topW[label], color = 'blue', label = 'win', alpha =0.7, density = True)\n",
    "    plt.hist(df_topL[label], color = 'red', label = 'loss', alpha =0.7, density = True)\n",
    "    plt.title(label)\n",
    "    plt.ylabel('probability')\n",
    "    plt.xlabel(label)\n",
    "    plt.legend()\n",
    "    plt.show()\n",
    "'''"
   ]
  },
  {
   "cell_type": "code",
   "execution_count": 1068,
   "metadata": {},
   "outputs": [],
   "source": [
    "#creating W/L dataframe\n",
    "dfTopWL = pd.concat([df_topW, df_topL])\n",
    "\n",
    "dfMidWL = pd.concat([df_midW, df_midL])\n",
    "\n",
    "dfJgWL = pd.concat([df_jgW, df_jgL])\n",
    "\n",
    "dfBotWL = pd.concat([df_botW, df_botL])\n",
    "\n",
    "dfSupWL = pd.concat([df_supW, df_supL])\n"
   ]
  },
  {
   "cell_type": "code",
   "execution_count": 1069,
   "metadata": {},
   "outputs": [
    {
     "name": "stderr",
     "output_type": "stream",
     "text": [
      "c:\\dev\\lol_data_project\\venv\\Lib\\site-packages\\numpy\\core\\fromnumeric.py:59: FutureWarning: 'DataFrame.swapaxes' is deprecated and will be removed in a future version. Please use 'DataFrame.transpose' instead.\n",
      "  return bound(*args, **kwds)\n",
      "c:\\dev\\lol_data_project\\venv\\Lib\\site-packages\\numpy\\core\\fromnumeric.py:59: FutureWarning: 'DataFrame.swapaxes' is deprecated and will be removed in a future version. Please use 'DataFrame.transpose' instead.\n",
      "  return bound(*args, **kwds)\n",
      "c:\\dev\\lol_data_project\\venv\\Lib\\site-packages\\numpy\\core\\fromnumeric.py:59: FutureWarning: 'DataFrame.swapaxes' is deprecated and will be removed in a future version. Please use 'DataFrame.transpose' instead.\n",
      "  return bound(*args, **kwds)\n",
      "c:\\dev\\lol_data_project\\venv\\Lib\\site-packages\\numpy\\core\\fromnumeric.py:59: FutureWarning: 'DataFrame.swapaxes' is deprecated and will be removed in a future version. Please use 'DataFrame.transpose' instead.\n",
      "  return bound(*args, **kwds)\n",
      "c:\\dev\\lol_data_project\\venv\\Lib\\site-packages\\numpy\\core\\fromnumeric.py:59: FutureWarning: 'DataFrame.swapaxes' is deprecated and will be removed in a future version. Please use 'DataFrame.transpose' instead.\n",
      "  return bound(*args, **kwds)\n"
     ]
    }
   ],
   "source": [
    "#top\n",
    "Ttrain, Tvalid, Ttest = np.split(dfTopWL.sample(frac=1), [int(0.6*len(dfTopWL)), int(0.8*len(dfTopWL))])\n",
    "trainTop, x_trainTop, y_trainTop = scale_data(Ttrain, oversample=True)\n",
    "validTop, x_validTop, y_validTop = scale_data(Tvalid)\n",
    "testTop, x_testTop, y_testTop = scale_data(Ttest)\n",
    "\n",
    "#mid\n",
    "Mtrain, Mvalid, Mtest = np.split(dfMidWL.sample(frac=1), [int(0.6*len(dfMidWL)), int(0.8*len(dfMidWL))])\n",
    "trainMid, x_trainMid, y_trainMid = scale_data(Mtrain, oversample=True)\n",
    "validMid, x_validMid, y_validMid = scale_data(Mvalid)\n",
    "testMid, x_testMid, y_testMid = scale_data(Mtest)\n",
    "\n",
    "#jg\n",
    "Jtrain, Jvalid, Jtest = np.split(dfJgWL.sample(frac=1), [int(0.6*len(dfJgWL)), int(0.8*len(dfJgWL))])\n",
    "trainJg, x_trainJg, y_trainJg = scale_data(Jtrain, oversample=True)\n",
    "validJg, x_validJg, y_validJg = scale_data(Jvalid)\n",
    "testJg, x_testJg, y_testJg = scale_data(Jtest)\n",
    "\n",
    "#bot\n",
    "Btrain, Bvalid, Btest = np.split(dfBotWL.sample(frac=1), [int(0.6*len(dfBotWL)), int(0.8*len(dfBotWL))])\n",
    "trainBot, x_trainBot, y_trainBot = scale_data(Btrain, oversample=True)\n",
    "validBot, x_validBot, y_validBot = scale_data(Bvalid)\n",
    "testBot, x_testBot, y_testBot = scale_data(Btest)\n",
    "\n",
    "#support\n",
    "S_train, S_valid, S_test = np.split(dfSupWL.sample(frac=1), [int(0.6*len(dfSupWL)), int(0.8*len(dfSupWL))])\n",
    "trainSup, x_trainSup, y_trainSup = scale_data(S_train, oversample=True)\n",
    "validSup, x_validSup, y_validSup = scale_data(S_valid)\n",
    "testSup, x_testSup, y_testSup = scale_data(S_test)\n"
   ]
  },
  {
   "cell_type": "code",
   "execution_count": 1070,
   "metadata": {},
   "outputs": [
    {
     "name": "stdout",
     "output_type": "stream",
     "text": [
      "TOP REPORT\n",
      "              precision    recall  f1-score   support\n",
      "\n",
      "           0       0.00      0.00      0.00        21\n",
      "           1       0.45      1.00      0.62        17\n",
      "\n",
      "    accuracy                           0.45        38\n",
      "   macro avg       0.22      0.50      0.31        38\n",
      "weighted avg       0.20      0.45      0.28        38\n",
      "\n",
      "MID REPORT\n",
      "              precision    recall  f1-score   support\n",
      "\n",
      "           0       0.00      0.00      0.00        23\n",
      "           1       0.39      1.00      0.57        15\n",
      "\n",
      "    accuracy                           0.39        38\n",
      "   macro avg       0.20      0.50      0.28        38\n",
      "weighted avg       0.16      0.39      0.22        38\n",
      "\n",
      "Jg REPORT\n",
      "              precision    recall  f1-score   support\n",
      "\n",
      "           0       0.00      0.00      0.00        17\n",
      "           1       0.55      1.00      0.71        21\n",
      "\n",
      "    accuracy                           0.55        38\n",
      "   macro avg       0.28      0.50      0.36        38\n",
      "weighted avg       0.31      0.55      0.39        38\n",
      "\n",
      "Bot REPORT\n",
      "              precision    recall  f1-score   support\n",
      "\n",
      "           0       0.00      0.00      0.00        24\n",
      "           1       0.37      1.00      0.54        14\n",
      "\n",
      "    accuracy                           0.37        38\n",
      "   macro avg       0.18      0.50      0.27        38\n",
      "weighted avg       0.14      0.37      0.20        38\n",
      "\n",
      "Sup REPORT\n",
      "              precision    recall  f1-score   support\n",
      "\n",
      "           0       0.00      0.00      0.00        18\n",
      "           1       0.53      1.00      0.69        20\n",
      "\n",
      "    accuracy                           0.53        38\n",
      "   macro avg       0.26      0.50      0.34        38\n",
      "weighted avg       0.28      0.53      0.36        38\n",
      "\n"
     ]
    },
    {
     "name": "stderr",
     "output_type": "stream",
     "text": [
      "c:\\dev\\lol_data_project\\venv\\Lib\\site-packages\\sklearn\\metrics\\_classification.py:1517: UndefinedMetricWarning: Precision is ill-defined and being set to 0.0 in labels with no predicted samples. Use `zero_division` parameter to control this behavior.\n",
      "  _warn_prf(average, modifier, f\"{metric.capitalize()} is\", len(result))\n",
      "c:\\dev\\lol_data_project\\venv\\Lib\\site-packages\\sklearn\\metrics\\_classification.py:1517: UndefinedMetricWarning: Precision is ill-defined and being set to 0.0 in labels with no predicted samples. Use `zero_division` parameter to control this behavior.\n",
      "  _warn_prf(average, modifier, f\"{metric.capitalize()} is\", len(result))\n",
      "c:\\dev\\lol_data_project\\venv\\Lib\\site-packages\\sklearn\\metrics\\_classification.py:1517: UndefinedMetricWarning: Precision is ill-defined and being set to 0.0 in labels with no predicted samples. Use `zero_division` parameter to control this behavior.\n",
      "  _warn_prf(average, modifier, f\"{metric.capitalize()} is\", len(result))\n",
      "c:\\dev\\lol_data_project\\venv\\Lib\\site-packages\\sklearn\\metrics\\_classification.py:1517: UndefinedMetricWarning: Precision is ill-defined and being set to 0.0 in labels with no predicted samples. Use `zero_division` parameter to control this behavior.\n",
      "  _warn_prf(average, modifier, f\"{metric.capitalize()} is\", len(result))\n",
      "c:\\dev\\lol_data_project\\venv\\Lib\\site-packages\\sklearn\\metrics\\_classification.py:1517: UndefinedMetricWarning: Precision is ill-defined and being set to 0.0 in labels with no predicted samples. Use `zero_division` parameter to control this behavior.\n",
      "  _warn_prf(average, modifier, f\"{metric.capitalize()} is\", len(result))\n",
      "c:\\dev\\lol_data_project\\venv\\Lib\\site-packages\\sklearn\\metrics\\_classification.py:1517: UndefinedMetricWarning: Precision is ill-defined and being set to 0.0 in labels with no predicted samples. Use `zero_division` parameter to control this behavior.\n",
      "  _warn_prf(average, modifier, f\"{metric.capitalize()} is\", len(result))\n",
      "c:\\dev\\lol_data_project\\venv\\Lib\\site-packages\\sklearn\\metrics\\_classification.py:1517: UndefinedMetricWarning: Precision is ill-defined and being set to 0.0 in labels with no predicted samples. Use `zero_division` parameter to control this behavior.\n",
      "  _warn_prf(average, modifier, f\"{metric.capitalize()} is\", len(result))\n",
      "c:\\dev\\lol_data_project\\venv\\Lib\\site-packages\\sklearn\\metrics\\_classification.py:1517: UndefinedMetricWarning: Precision is ill-defined and being set to 0.0 in labels with no predicted samples. Use `zero_division` parameter to control this behavior.\n",
      "  _warn_prf(average, modifier, f\"{metric.capitalize()} is\", len(result))\n",
      "c:\\dev\\lol_data_project\\venv\\Lib\\site-packages\\sklearn\\metrics\\_classification.py:1517: UndefinedMetricWarning: Precision is ill-defined and being set to 0.0 in labels with no predicted samples. Use `zero_division` parameter to control this behavior.\n",
      "  _warn_prf(average, modifier, f\"{metric.capitalize()} is\", len(result))\n",
      "c:\\dev\\lol_data_project\\venv\\Lib\\site-packages\\sklearn\\metrics\\_classification.py:1517: UndefinedMetricWarning: Precision is ill-defined and being set to 0.0 in labels with no predicted samples. Use `zero_division` parameter to control this behavior.\n",
      "  _warn_prf(average, modifier, f\"{metric.capitalize()} is\", len(result))\n",
      "c:\\dev\\lol_data_project\\venv\\Lib\\site-packages\\sklearn\\metrics\\_classification.py:1517: UndefinedMetricWarning: Precision is ill-defined and being set to 0.0 in labels with no predicted samples. Use `zero_division` parameter to control this behavior.\n",
      "  _warn_prf(average, modifier, f\"{metric.capitalize()} is\", len(result))\n",
      "c:\\dev\\lol_data_project\\venv\\Lib\\site-packages\\sklearn\\metrics\\_classification.py:1517: UndefinedMetricWarning: Precision is ill-defined and being set to 0.0 in labels with no predicted samples. Use `zero_division` parameter to control this behavior.\n",
      "  _warn_prf(average, modifier, f\"{metric.capitalize()} is\", len(result))\n",
      "c:\\dev\\lol_data_project\\venv\\Lib\\site-packages\\sklearn\\metrics\\_classification.py:1517: UndefinedMetricWarning: Precision is ill-defined and being set to 0.0 in labels with no predicted samples. Use `zero_division` parameter to control this behavior.\n",
      "  _warn_prf(average, modifier, f\"{metric.capitalize()} is\", len(result))\n",
      "c:\\dev\\lol_data_project\\venv\\Lib\\site-packages\\sklearn\\metrics\\_classification.py:1517: UndefinedMetricWarning: Precision is ill-defined and being set to 0.0 in labels with no predicted samples. Use `zero_division` parameter to control this behavior.\n",
      "  _warn_prf(average, modifier, f\"{metric.capitalize()} is\", len(result))\n",
      "c:\\dev\\lol_data_project\\venv\\Lib\\site-packages\\sklearn\\metrics\\_classification.py:1517: UndefinedMetricWarning: Precision is ill-defined and being set to 0.0 in labels with no predicted samples. Use `zero_division` parameter to control this behavior.\n",
      "  _warn_prf(average, modifier, f\"{metric.capitalize()} is\", len(result))\n"
     ]
    }
   ],
   "source": [
    "Top_model = GaussianNB()\n",
    "Top_model = Top_model.fit(X = x_trainTop, y= y_trainTop)\n",
    "y_predTop = Top_model.predict(x_testTop)\n",
    "print('TOP REPORT')\n",
    "print(classification_report(y_testTop, y_predTop))\n",
    "\n",
    "Mid_model = GaussianNB()\n",
    "Mid_model = Mid_model.fit(X = x_trainMid, y= y_trainMid)\n",
    "y_predMid = Mid_model.predict(x_testMid)\n",
    "print('MID REPORT')\n",
    "print(classification_report(y_testMid, y_predMid))\n",
    "\n",
    "Jg_model = GaussianNB()\n",
    "Jg_model = Jg_model.fit(X = x_trainJg, y= y_trainJg)\n",
    "y_predJg = Jg_model.predict(x_testJg)\n",
    "print('Jg REPORT')\n",
    "print(classification_report(y_testJg, y_predJg))\n",
    "\n",
    "Bot_model = GaussianNB()\n",
    "Bot_model = Bot_model.fit(X = x_trainBot, y= y_trainBot)\n",
    "y_predBot = Bot_model.predict(x_testBot)\n",
    "print('Bot REPORT')\n",
    "print(classification_report(y_testBot, y_predBot))\n",
    "\n",
    "Sup_model = GaussianNB()\n",
    "Sup_model = Sup_model.fit(X = x_trainSup, y= y_trainSup)\n",
    "y_predSup = Sup_model.predict(x_testSup)\n",
    "print('Sup REPORT')\n",
    "print(classification_report(y_testSup, y_predSup))\n"
   ]
  }
 ],
 "metadata": {
  "kernelspec": {
   "display_name": "venv",
   "language": "python",
   "name": "python3"
  },
  "language_info": {
   "codemirror_mode": {
    "name": "ipython",
    "version": 3
   },
   "file_extension": ".py",
   "mimetype": "text/x-python",
   "name": "python",
   "nbconvert_exporter": "python",
   "pygments_lexer": "ipython3",
   "version": "3.11.1"
  }
 },
 "nbformat": 4,
 "nbformat_minor": 2
}
